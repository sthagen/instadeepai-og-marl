{
 "cells": [
  {
   "cell_type": "code",
   "execution_count": 1,
   "metadata": {},
   "outputs": [
    {
     "name": "stdout",
     "output_type": "stream",
     "text": [
      "Loading vault found at /Users/callum/og-marl/vaults/rware/tiny-4ag.vlt/Replay\n"
     ]
    }
   ],
   "source": [
    "from flashbax.vault import Vault\n",
    "vlt = Vault(\n",
    "    vault_name=\"rware/tiny-4ag.vlt\",\n",
    "    vault_uid=\"Replay\",\n",
    ")"
   ]
  },
  {
   "cell_type": "code",
   "execution_count": 2,
   "metadata": {},
   "outputs": [],
   "source": [
    "data = vlt.read()"
   ]
  },
  {
   "cell_type": "code",
   "execution_count": 4,
   "metadata": {},
   "outputs": [
    {
     "data": {
      "text/plain": [
       "dict_keys(['action', 'done', 'legal_action_mask', 'observation', 'reward'])"
      ]
     },
     "execution_count": 4,
     "metadata": {},
     "output_type": "execute_result"
    }
   ],
   "source": [
    "data.experience.keys()"
   ]
  },
  {
   "cell_type": "code",
   "execution_count": 5,
   "metadata": {},
   "outputs": [],
   "source": [
    "import jax.numpy as jnp\n",
    "\n",
    "def convert_timestep(input_dict):\n",
    "    output_dict = {\n",
    "        \"observations\": jnp.asarray(input_dict[\"observation\"][..., 4:], dtype=jnp.float32),\n",
    "        \"rewards\": input_dict[\"reward\"],\n",
    "        \"actions\": jnp.asarray(input_dict[\"action\"], dtype=jnp.int32),\n",
    "        \"terminals\": input_dict[\"done\"],\n",
    "        \"truncations\": jnp.zeros_like(input_dict[\"done\"], dtype=jnp.bool_),\n",
    "        \"infos\": {\n",
    "            \"legals\": jnp.asarray(input_dict[\"legal_action_mask\"], dtype=jnp.int32),\n",
    "            \"env_state\": input_dict[\"observation\"][..., 4:].reshape(*input_dict[\"observation\"].shape[:2], -1)\n",
    "        }\n",
    "    }\n",
    "    return output_dict"
   ]
  },
  {
   "cell_type": "code",
   "execution_count": 6,
   "metadata": {},
   "outputs": [
    {
     "name": "stdout",
     "output_type": "stream",
     "text": [
      "New vault created at /Users/callum/og-marl/vaults/rware/tiny-4ag-converted.vlt/Replay\n",
      "Since the provided buffer state has a temporal dimension of 6256, you must write to the vault at least every 6255 timesteps to avoid data loss.\n"
     ]
    }
   ],
   "source": [
    "new_vault = Vault(\n",
    "    vault_name=\"rware/tiny-4ag-converted.vlt\",\n",
    "    vault_uid=\"Replay\",\n",
    "    experience_structure=convert_timestep(data.experience),\n",
    ")"
   ]
  },
  {
   "cell_type": "code",
   "execution_count": 7,
   "metadata": {},
   "outputs": [
    {
     "data": {
      "text/plain": [
       "6256"
      ]
     },
     "execution_count": 7,
     "metadata": {},
     "output_type": "execute_result"
    }
   ],
   "source": [
    "from flashbax.buffers.trajectory_buffer import TrajectoryBufferState\n",
    "import jax\n",
    "new_vault.write(\n",
    "    TrajectoryBufferState(\n",
    "        experience=convert_timestep(data.experience),\n",
    "        current_index=jax.tree_util.tree_flatten(data.experience)[0][0].shape[1],\n",
    "        is_full=False,\n",
    "    )\n",
    ")"
   ]
  }
 ],
 "metadata": {
  "kernelspec": {
   "display_name": "ogmarl",
   "language": "python",
   "name": "python3"
  },
  "language_info": {
   "codemirror_mode": {
    "name": "ipython",
    "version": 3
   },
   "file_extension": ".py",
   "mimetype": "text/x-python",
   "name": "python",
   "nbconvert_exporter": "python",
   "pygments_lexer": "ipython3",
   "version": "3.9.18"
  }
 },
 "nbformat": 4,
 "nbformat_minor": 2
}
